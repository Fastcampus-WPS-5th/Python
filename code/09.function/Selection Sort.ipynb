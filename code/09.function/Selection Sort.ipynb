{
 "cells": [
  {
   "cell_type": "code",
   "execution_count": 12,
   "metadata": {},
   "outputs": [
    {
     "name": "stdout",
     "output_type": "stream",
     "text": [
      "1번째 loop입니다\n",
      "  현재 최소값은5, 인덱스는 1입니다\n",
      "  최소값을 찾아 인덱스 저장. 찾은 최소값은1, 인덱스는2\n",
      "2번째 loop입니다\n",
      "  현재 최소값은1, 인덱스는 2입니다\n",
      "3번째 loop입니다\n",
      "  현재 최소값은3, 인덱스는 3입니다\n",
      "  최소값을 찾아 인덱스 저장. 찾은 최소값은2, 인덱스는5\n",
      "4번째 loop입니다\n",
      "  현재 최소값은7, 인덱스는 4입니다\n",
      "  최소값을 찾아 인덱스 저장. 찾은 최소값은2, 인덱스는5\n",
      "5번째 loop입니다\n",
      "  현재 최소값은2, 인덱스는 5입니다\n"
     ]
    }
   ],
   "source": [
    "sample_list = [5, 1, 3, 7, 2, 9]\n",
    "def selection_sort(ori_list):\n",
    "    # 주어진 리스트의 길이\n",
    "    ori_len = len(ori_list)\n",
    "    \n",
    "    # 리스트길이-1번만큼 순회, 각 인덱스는 i에 지정\n",
    "    for i in range(ori_len - 1):\n",
    "        print('{}번째 loop입니다'.format(i + 1))\n",
    "        cur_min_index = i\n",
    "        print('  현재 최소값은{}, 인덱스는 {}입니다'.format(ori_list[cur_min_index], cur_min_index + 1))\n",
    "        \n",
    "        # loop내부에서 매 loop마다 리스트길이 - i(상위 인덱스)만큼 순회\n",
    "        for j in range(i + 1, ori_len):\n",
    "#             print('  {}번째 요소의 값은 {}'.format(i + 1, ori_list[j]))\n",
    "            if ori_list[j] < ori_list[cur_min_index]:\n",
    "                cur_min_index = j\n",
    "                print('  최소값을 찾아 인덱스 저장. 찾은 최소값은{}, 인덱스는{}'.format(ori_list[cur_min_index], cur_min_index + 1))\n",
    "        \n",
    "selection_sort(sample_list)"
   ]
  }
 ],
 "metadata": {
  "kernelspec": {
   "display_name": "Python 3",
   "language": "python",
   "name": "python3"
  },
  "language_info": {
   "codemirror_mode": {
    "name": "ipython",
    "version": 3
   },
   "file_extension": ".py",
   "mimetype": "text/x-python",
   "name": "python",
   "nbconvert_exporter": "python",
   "pygments_lexer": "ipython3",
   "version": "3.5.3"
  }
 },
 "nbformat": 4,
 "nbformat_minor": 2
}
