{
 "cells": [
  {
   "cell_type": "code",
   "execution_count": 18,
   "metadata": {},
   "outputs": [
    {
     "name": "stdout",
     "output_type": "stream",
     "text": [
      "원본 리스트: [2, 5, 0, 1, 7, 3, 9, 4, 6, 8]\n",
      "1번째 loop입니다\n",
      " 현재 최소값은2, 인덱스는1\n",
      "  3번째 index의 0값이 기존값보다 작음\n",
      "1번째 loop결과 :[0, 5, 2, 1, 7, 3, 9, 4, 6, 8]\n",
      "2번째 loop입니다\n",
      " 현재 최소값은5, 인덱스는2\n",
      "  3번째 index의 2값이 기존값보다 작음\n",
      "  4번째 index의 1값이 기존값보다 작음\n",
      "2번째 loop결과 :[0, 1, 2, 5, 7, 3, 9, 4, 6, 8]\n",
      "3번째 loop입니다\n",
      " 현재 최소값은2, 인덱스는3\n",
      "3번째 loop결과 :[0, 1, 2, 5, 7, 3, 9, 4, 6, 8]\n",
      "4번째 loop입니다\n",
      " 현재 최소값은5, 인덱스는4\n",
      "  6번째 index의 3값이 기존값보다 작음\n",
      "4번째 loop결과 :[0, 1, 2, 3, 7, 5, 9, 4, 6, 8]\n",
      "5번째 loop입니다\n",
      " 현재 최소값은7, 인덱스는5\n",
      "  6번째 index의 5값이 기존값보다 작음\n",
      "  8번째 index의 4값이 기존값보다 작음\n",
      "5번째 loop결과 :[0, 1, 2, 3, 4, 5, 9, 7, 6, 8]\n",
      "6번째 loop입니다\n",
      " 현재 최소값은5, 인덱스는6\n",
      "6번째 loop결과 :[0, 1, 2, 3, 4, 5, 9, 7, 6, 8]\n",
      "7번째 loop입니다\n",
      " 현재 최소값은9, 인덱스는7\n",
      "  8번째 index의 7값이 기존값보다 작음\n",
      "  9번째 index의 6값이 기존값보다 작음\n",
      "7번째 loop결과 :[0, 1, 2, 3, 4, 5, 6, 7, 9, 8]\n",
      "8번째 loop입니다\n",
      " 현재 최소값은7, 인덱스는8\n",
      "8번째 loop결과 :[0, 1, 2, 3, 4, 5, 6, 7, 9, 8]\n",
      "9번째 loop입니다\n",
      " 현재 최소값은9, 인덱스는9\n",
      "  10번째 index의 8값이 기존값보다 작음\n",
      "9번째 loop결과 :[0, 1, 2, 3, 4, 5, 6, 7, 8, 9]\n"
     ]
    }
   ],
   "source": [
    "import random\n",
    "\n",
    "sample_list = [5, 1, 3, 7, 2, 9]\n",
    "sample_list = [x for x in range(10)]\n",
    "random.shuffle(sample_list)\n",
    "def selection_sort(ori_list):\n",
    "    print('원본 리스트:', ori_list)\n",
    "    # 주어진 리스트의 길이\n",
    "    ori_len = len(ori_list)\n",
    "    \n",
    "    # 리스트길이-1번만큼 순회, 각 인덱스는 i에 지정\n",
    "    for i in range(ori_len - 1):\n",
    "        print('{}번째 loop입니다'.format(i + 1))\n",
    "        cur_min_index = i\n",
    "        print(' 현재 최소값은{}, 인덱스는{}'.format(\n",
    "            ori_list[cur_min_index],\n",
    "            cur_min_index + 1\n",
    "        ))\n",
    "        \n",
    "        # loop내부에서 매 loop마다 리스트길이 - i(상위 인덱스)만큼 순회\n",
    "        # 순회 시, i+1부터 리스트 전체길이까지 순회하여 비교하려는 첫번째 인덱스 이후부터 끝까지 순회\n",
    "        for j in range(i + 1, ori_len):\n",
    "            # cur_min_index가 가지는 값과 j인덱스가 가지는 값을 비교\n",
    "            if ori_list[cur_min_index] > ori_list[j]:\n",
    "                cur_min_index = j\n",
    "                print('  {}번째 index의 {}값이 기존값보다 작음'.format(\n",
    "                    cur_min_index + 1,\n",
    "                    ori_list[cur_min_index]\n",
    "                ))\n",
    "        # 내부 loop가 끝난 후, cur_min_index의 값과 i인덱스의 값을 서로 바꿔준다\n",
    "        ori_list[i], ori_list[cur_min_index] = ori_list[cur_min_index], ori_list[i]\n",
    "        print('{}번째 loop결과 :{}'.format(i + 1, ori_list))\n",
    "        \n",
    "selection_sort(sample_list)"
   ]
  }
 ],
 "metadata": {
  "kernelspec": {
   "display_name": "Python 3",
   "language": "python",
   "name": "python3"
  },
  "language_info": {
   "codemirror_mode": {
    "name": "ipython",
    "version": 3
   },
   "file_extension": ".py",
   "mimetype": "text/x-python",
   "name": "python",
   "nbconvert_exporter": "python",
   "pygments_lexer": "ipython3",
   "version": "3.5.3"
  }
 },
 "nbformat": 4,
 "nbformat_minor": 2
}
