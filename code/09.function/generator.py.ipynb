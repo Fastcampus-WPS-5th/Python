{
 "cells": [
  {
   "cell_type": "code",
   "execution_count": 8,
   "metadata": {
    "scrolled": true
   },
   "outputs": [
    {
     "name": "stdout",
     "output_type": "stream",
     "text": [
      "<generator object range_gen at 0x10f37fb48>\n",
      "<class 'generator'>\n",
      "0\n",
      "1\n",
      "2\n",
      "3\n",
      "4\n",
      "5\n",
      "6\n",
      "7\n"
     ]
    }
   ],
   "source": [
    "def range_gen(num):\n",
    "    i = 0\n",
    "    while i < num:\n",
    "        yield i\n",
    "        i += 1\n",
    "\n",
    "        \n",
    "gen = range_gen(10)\n",
    "print(gen)\n",
    "print(type(gen))\n",
    "\n",
    "# gen.__next__()\n",
    "# gen.__next__()\n",
    "# gen.__next__()\n",
    "# gen.__next__()\n",
    "# gen.__next__()\n",
    "\n",
    "# for item in gen:\n",
    "#     print(item)\n",
    "    \n",
    "i = 0\n",
    "while i < 8:\n",
    "    print(gen.__next__())\n",
    "    i += 1"
   ]
  }
 ],
 "metadata": {
  "kernelspec": {
   "display_name": "Python 3",
   "language": "python",
   "name": "python3"
  },
  "language_info": {
   "codemirror_mode": {
    "name": "ipython",
    "version": 3
   },
   "file_extension": ".py",
   "mimetype": "text/x-python",
   "name": "python",
   "nbconvert_exporter": "python",
   "pygments_lexer": "ipython3",
   "version": "3.5.3"
  }
 },
 "nbformat": 4,
 "nbformat_minor": 2
}
