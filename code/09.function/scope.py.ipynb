{
 "cells": [
  {
   "cell_type": "code",
   "execution_count": 33,
   "metadata": {
    "scrolled": true
   },
   "outputs": [
    {
     "name": "stdout",
     "output_type": "stream",
     "text": [
      "champion variable init, id: 4568627216\n",
      "champion variable edit in local, id: 4568628504\n",
      "in_change_global_champion: Ahri\n",
      "champion variable after edit, id: 4568628504\n",
      "after_change_global_champion: Ahri\n"
     ]
    }
   ],
   "source": [
    "# 로컬 스코프에서 global키워드를 사용\n",
    "champion = 'Lux'\n",
    "print('champion variable init, id:', id(champion))\n",
    "\n",
    "def change_global_champion():\n",
    "    global champion\n",
    "    champion = 'Ahri'\n",
    "    print('champion variable edit in local, id:', id(champion))\n",
    "    print('in_change_global_champion: {}'.format(champion))\n",
    "\n",
    "change_global_champion()\n",
    "print('champion variable after edit, id:', id(champion))\n",
    "print('after_change_global_champion: {}'.format(champion))"
   ]
  },
  {
   "cell_type": "code",
   "execution_count": 39,
   "metadata": {},
   "outputs": [
    {
     "name": "stdout",
     "output_type": "stream",
     "text": [
      "local1 locals(): {}\n",
      "local2 locals(): {}\n",
      "global champion value: Ezreal\n"
     ]
    }
   ],
   "source": [
    "# 다중 로컬 스코프에서 global 키워드 사용\n",
    "champion = 'Lux'\n",
    "\n",
    "def local1():\n",
    "    global champion\n",
    "    champion = 'Ahri'\n",
    "    print('local1 locals():', locals())\n",
    "    \n",
    "    def local2():\n",
    "        global champion\n",
    "        champion = 'Ezreal'\n",
    "        print('local2 locals():', locals())\n",
    "\n",
    "    local2()\n",
    "local1()\n",
    "print('global champion value:', globals()['champion'])\n"
   ]
  },
  {
   "cell_type": "code",
   "execution_count": 66,
   "metadata": {},
   "outputs": [
    {
     "name": "stdout",
     "output_type": "stream",
     "text": [
      "local1 before champion id: 4568628504\n",
      "local2 after champion id: 4568872696\n",
      "local1 after champion id: 4568628504\n"
     ]
    }
   ],
   "source": [
    "# nonlocal 키워드 사용 (변수는 str형)\n",
    "champion = 'Lux'\n",
    "\n",
    "def local1():\n",
    "    def local2():\n",
    "#         nonlocal champion\n",
    "#         print('local2 before champion id:', id(champion))\n",
    "        champion = 'Ezreal'\n",
    "        print('local2 after champion id:', id(champion))\n",
    "#         print('local2 locals():', locals())\n",
    "#         print('local2 champion value:', locals().get('champion'))\n",
    "\n",
    "\n",
    "    champion = 'Ahri'\n",
    "#     print('local1 before champion value:', locals().get('champion'))\n",
    "    print('local1 before champion id:', id(champion))\n",
    "    local2()\n",
    "    print('local1 after champion id:', id(champion))\n",
    "#     print('local1 locals():', locals())\n",
    "#     print('local1 after champion value:', locals().get('champion'))\n",
    "local1()\n",
    "# print('global champion value:', globals()['champion'])"
   ]
  },
  {
   "cell_type": "code",
   "execution_count": 68,
   "metadata": {},
   "outputs": [
    {
     "name": "stdout",
     "output_type": "stream",
     "text": [
      "local1 before champion id: 4569499144\n",
      "local2 before champion id: 4569499144\n",
      "local2 after champion id: 4569579336\n",
      "local1 after champion id: 4569579336\n"
     ]
    }
   ],
   "source": [
    "# 상위영역의 변수가 리스트일경우\n",
    "champion = ['Lux']\n",
    "\n",
    "def local1():\n",
    "    def local2():\n",
    "        nonlocal champion\n",
    "#         global champion\n",
    "        print('local2 before champion id:', id(champion))\n",
    "        # append를 이용하면 champion리스트 변수를 \"사용\" 한 것이 되므로 상위 스코프에서 가져온다\n",
    "#         champion.append('Ezreal')\n",
    "        # 새 리스트를 할당하면 champion리스트 변수를 새로 \"할당\" 한 것이 되므로 상위 스코프와 별개로 동작한다\n",
    "        champion = ['Ezreal']\n",
    "        print('local2 after champion id:', id(champion))\n",
    "#         print('local2 locals():', locals())\n",
    "#         print('local2 champion value:', locals().get('champion'))\n",
    "\n",
    "\n",
    "    champion = ['Ahri']\n",
    "#     print('local1 before champion value:', locals().get('champion'))\n",
    "    print('local1 before champion id:', id(champion))\n",
    "    local2()\n",
    "    print('local1 after champion id:', id(champion))\n",
    "#     print('local1 locals():', locals())\n",
    "#     print('local1 after champion value:', locals().get('champion'))\n",
    "local1()\n",
    "# print('global champion value:', globals()['champion'])"
   ]
  }
 ],
 "metadata": {
  "kernelspec": {
   "display_name": "Python 3",
   "language": "python",
   "name": "python3"
  },
  "language_info": {
   "codemirror_mode": {
    "name": "ipython",
    "version": 3
   },
   "file_extension": ".py",
   "mimetype": "text/x-python",
   "name": "python",
   "nbconvert_exporter": "python",
   "pygments_lexer": "ipython3",
   "version": "3.5.3"
  }
 },
 "nbformat": 4,
 "nbformat_minor": 2
}
