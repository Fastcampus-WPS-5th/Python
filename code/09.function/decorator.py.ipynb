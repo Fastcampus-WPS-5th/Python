{
 "cells": [
  {
   "cell_type": "code",
   "execution_count": 29,
   "metadata": {
    "scrolled": true
   },
   "outputs": [
    {
     "name": "stdout",
     "output_type": "stream",
     "text": [
      "38\n"
     ]
    }
   ],
   "source": [
    "# 데코레이터 예제\n",
    "def double(f):\n",
    "    def inner_f(*args, **kwargs):\n",
    "        result = f(*args, **kwargs)\n",
    "        return result * 2\n",
    "    return inner_f\n",
    "\n",
    "\n",
    "def plus(f):\n",
    "    def inner_f(*args, **kwargs):\n",
    "        result = f(*args, **kwargs)\n",
    "        return result + 10\n",
    "    return inner_f\n",
    "\n",
    "\n",
    "@double\n",
    "@plus\n",
    "def multi(n):\n",
    "    '제곱을 반환'\n",
    "    return n * n\n",
    "\n",
    "result = multi(3)\n",
    "print(result)"
   ]
  }
 ],
 "metadata": {
  "kernelspec": {
   "display_name": "Python 3",
   "language": "python",
   "name": "python3"
  },
  "language_info": {
   "codemirror_mode": {
    "name": "ipython",
    "version": 3
   },
   "file_extension": ".py",
   "mimetype": "text/x-python",
   "name": "python",
   "nbconvert_exporter": "python",
   "pygments_lexer": "ipython3",
   "version": "3.5.3"
  }
 },
 "nbformat": 4,
 "nbformat_minor": 2
}
